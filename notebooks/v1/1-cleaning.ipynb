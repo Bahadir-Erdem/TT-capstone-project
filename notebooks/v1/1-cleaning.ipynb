{
 "cells": [
  {
   "cell_type": "code",
   "execution_count": 12,
   "metadata": {},
   "outputs": [],
   "source": [
    "import pandas as pd\n",
    "import gzip\n",
    "from xgboost import XGBRegressor, XGBClassifier\n",
    "from scipy.stats.mstats import winsorize"
   ]
  },
  {
   "cell_type": "code",
   "execution_count": 13,
   "metadata": {},
   "outputs": [],
   "source": [
    "def get_data() -> pd.DataFrame:\n",
    "    dfs = []\n",
    "\n",
    "    for i in range(1, 11):\n",
    "        base_url = f\"dataset/raw/capstone.{i}.jsonl.gz\"\n",
    "\n",
    "        with gzip.open(base_url.format(str(i)), mode=\"r\") as f:\n",
    "            df_batch = pd.read_json(f, lines=True)\n",
    "            dfs.append(df_batch)\n",
    "\n",
    "    df = pd.concat(dfs, ignore_index=True)\n",
    "    return df"
   ]
  },
  {
   "cell_type": "code",
   "execution_count": 14,
   "metadata": {},
   "outputs": [],
   "source": [
    "TARGET = \"churn\""
   ]
  },
  {
   "cell_type": "code",
   "execution_count": 15,
   "metadata": {},
   "outputs": [],
   "source": [
    "df = get_data()"
   ]
  },
  {
   "cell_type": "code",
   "execution_count": 16,
   "metadata": {},
   "outputs": [],
   "source": [
    "def insert_apps(df: pd.DataFrame):\n",
    "    apps = set()\n",
    "    for val in df[\"apps\"]:\n",
    "        for list_val in val:\n",
    "            apps.add(list_val)\n",
    "\n",
    "    for app in apps:\n",
    "        df[f\"is_using_{app}\"] = 0\n",
    "\n",
    "    for app in apps:\n",
    "        df[f\"is_using_{app}\"] = df[\"apps\"].apply(lambda x: 1 if app in x else 0)\n",
    "\n",
    "    return df\n"
   ]
  },
  {
   "cell_type": "code",
   "execution_count": 17,
   "metadata": {},
   "outputs": [],
   "source": [
    "def preprocess_service_type(df: pd.DataFrame) -> pd.DataFrame:\n",
    "    service_type_mapping = {\"Prepaid\": 1, \"Postpaid\": 2, \"Broadband\": 3}\n",
    "    df[\"service_type\"] = df[\"service_type\"].map(service_type_mapping)\n",
    "    return df"
   ]
  },
  {
   "cell_type": "code",
   "execution_count": 18,
   "metadata": {},
   "outputs": [],
   "source": [
    "def preprocess_churn(df: pd.DataFrame):\n",
    "    churn_mapping = {False: 0, True: 1}\n",
    "    df[\"churn\"] = df[\"churn\"].map(churn_mapping)\n",
    "    return df\n"
   ]
  },
  {
   "cell_type": "code",
   "execution_count": 19,
   "metadata": {},
   "outputs": [],
   "source": [
    "def impute_with_xgboost(df: pd.DataFrame, column_to_impute: str, job: str = \"regression\") -> pd.DataFrame:\n",
    "    empty_df = df[df[column_to_impute].isna()].drop(columns=column_to_impute)\n",
    "\n",
    "    X_train = df[df[column_to_impute].notna()].drop(columns=column_to_impute)\n",
    "    y_train = df.loc[df[column_to_impute].notna(), column_to_impute]\n",
    "\n",
    "    if job == \"regression\":\n",
    "        xgb = XGBRegressor()\n",
    "    elif job == \"classification\":\n",
    "        xgb = XGBClassifier()\n",
    "        \n",
    "    model = xgb.fit(X_train, y_train)\n",
    "    pred = model.predict(empty_df)\n",
    "    df.loc[df[column_to_impute].isna(), column_to_impute] = pd.to_numeric(pred.flatten())\n",
    "    \n",
    "    return df"
   ]
  },
  {
   "cell_type": "code",
   "execution_count": null,
   "metadata": {},
   "outputs": [],
   "source": [
    "def winsorize_outliers(df: pd.DataFrame, iqr_multiplier: float = 1.5) -> pd.DataFrame:\n",
    "    for column in df.select_dtypes(include=[\"number\"]).columns:\n",
    "        if column == TARGET:\n",
    "            continue\n",
    "        \n",
    "        Q1 = df[column].quantile(0.25)\n",
    "        Q3 = df[column].quantile(0.75)\n",
    "        IQR = Q3 - Q1\n",
    "\n",
    "        lower_bound = Q1 - iqr_multiplier * IQR\n",
    "        upper_bound = Q3 + iqr_multiplier * IQR\n",
    "\n",
    "        df[column] = winsorize(\n",
    "            df[column],\n",
    "            limits=[(df[column] < lower_bound).mean(), (df[column] > upper_bound).mean()],\n",
    "        )\n",
    "\n",
    "    return df"
   ]
  },
  {
   "cell_type": "code",
   "execution_count": 21,
   "metadata": {},
   "outputs": [],
   "source": [
    "df = (\n",
    "    df\n",
    "    .pipe(insert_apps)\n",
    "    .drop(columns=[\"id\", \"apps\"])\n",
    "    .drop_duplicates()\n",
    "    .pipe(preprocess_service_type)\n",
    "    .pipe(preprocess_churn)\n",
    "    .pipe(impute_with_xgboost, column_to_impute=\"avg_call_duration\")\n",
    "    .pipe(impute_with_xgboost, column_to_impute=\"roaming_usage\")\n",
    "    .pipe(impute_with_xgboost, column_to_impute=\"auto_payment\", job=\"classification\")\n",
    "    .pipe(impute_with_xgboost, column_to_impute=\"call_drops\")\n",
    "    .assign(**{\n",
    "        \"data_usage\": lambda df: df[\"data_usage\"].fillna(df[\"data_usage\"].mean()),\n",
    "        \"tenure\": lambda df: df[\"tenure\"].fillna(df[\"tenure\"].mean()),\n",
    "        \"monthly_charge\": lambda df: df[\"monthly_charge\"].fillna(df[\"monthly_charge\"].median())\n",
    "    })\n",
    "    .pipe(winsorize_outliers)\n",
    "    .astype({col: \"int32\" for col in df.select_dtypes(\"int64\").columns})\n",
    "    .astype({col: \"float32\" for col in df.select_dtypes(\"float64\").columns})\n",
    " )"
   ]
  },
  {
   "cell_type": "code",
   "execution_count": 24,
   "metadata": {},
   "outputs": [],
   "source": [
    "df.to_csv(\"dataset/interim/cleaned_dataset.csv.gz\", compression=\"gzip\", index=False)"
   ]
  }
 ],
 "metadata": {
  "kernelspec": {
   "display_name": ".venv",
   "language": "python",
   "name": "python3"
  },
  "language_info": {
   "codemirror_mode": {
    "name": "ipython",
    "version": 3
   },
   "file_extension": ".py",
   "mimetype": "text/x-python",
   "name": "python",
   "nbconvert_exporter": "python",
   "pygments_lexer": "ipython3",
   "version": "3.12.2"
  }
 },
 "nbformat": 4,
 "nbformat_minor": 2
}
